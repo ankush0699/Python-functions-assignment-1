{
 "cells": [
  {
   "cell_type": "code",
   "execution_count": 30,
   "metadata": {},
   "outputs": [],
   "source": [
    "# Name: Ankush Shukla   e-mail: ankushshukla0612@gmail.com \n",
    "# Python_function_assignment_1"
   ]
  },
  {
   "cell_type": "code",
   "execution_count": 31,
   "metadata": {},
   "outputs": [],
   "source": [
    "#Question_1:  In Python, what is the difference between a built-in function and a user-defined function? \n",
    "#             Provide an example of each."
   ]
  },
  {
   "cell_type": "code",
   "execution_count": 32,
   "metadata": {},
   "outputs": [
    {
     "name": "stdout",
     "output_type": "stream",
     "text": [
      "Hello, world!\n",
      "Hello, Alice!\n"
     ]
    }
   ],
   "source": [
    "#Answer:  \n",
    "\"\"\"\n",
    "1. Built-in Functions:\n",
    "   - Built-in functions are functions that are provided by Python as part of its standard library. \n",
    "     They are readily available for use without the need to define them explicitly.\n",
    "   - These functions cover a wide range of common tasks and operations, such as mathematical calculations, \n",
    "     string manipulation, file operations, and more.\n",
    "   - Examples of built-in functions include `print()`, `len()`, `max()`, `min()`, `str()`, `int()`, `float()`, `input()`, etc.\n",
    "\"\"\"\n",
    "#Example\n",
    "print(\"Hello, world!\")\n",
    "\n",
    "\"\"\"\n",
    "2. User-Defined Functions:\n",
    "   - User-defined functions are functions that we create ourself, giving them a name and specifying the code \n",
    "     that should be executed when the function is called.\n",
    "   - These functions allow us to encapsulate a block of code and reuse it throughout our program, \n",
    "     making our code more modular and easier to maintain.\n",
    "   - We define user-defined functions using the `def` keyword, followed by a function name \n",
    "     and a block of code within parentheses and an indented code block.\n",
    "\"\"\"\n",
    "#Example\n",
    "\n",
    "def Hello(name):\n",
    "    \"\"\"\n",
    "    This function takes a name as input and prints a greeting.\n",
    "    \"\"\"\n",
    "    print(f\"Hello, {name}!\")\n",
    "\n",
    "Hello(\"Alice\")\n",
    "\n",
    "\n"
   ]
  },
  {
   "cell_type": "code",
   "execution_count": 33,
   "metadata": {},
   "outputs": [],
   "source": [
    "#Question_2:  How can you pass arguments to a function in Python? Explain the difference between positional\n",
    "#             arguments and keyword arguments."
   ]
  },
  {
   "cell_type": "code",
   "execution_count": 34,
   "metadata": {},
   "outputs": [
    {
     "name": "stdout",
     "output_type": "stream",
     "text": [
      "8\n",
      "-2\n"
     ]
    }
   ],
   "source": [
    "#Answer:\n",
    "\"\"\"\n",
    "we can pass arguments to a function when we call it. \n",
    "\n",
    "1. Positional Arguments:\n",
    "\n",
    "When we use positional arguments, we pass the values to the function in the same order as the function's parameter list.\n",
    "The function assigns these values to its parameters based on their position.\n",
    "\n",
    "\"\"\"\n",
    "def add(a, b):\n",
    "    result = a + b\n",
    "    return result\n",
    "\n",
    "sum_result = add(3, 5) \n",
    "print(sum_result)  \n",
    "\n",
    "\n",
    "\n",
    "\"\"\"\n",
    "2. Keyword Arguments:\n",
    "\n",
    "Keyword arguments allow us to pass arguments to a function by specifying the parameter names along with their values.\n",
    "When using keyword arguments, the order in which we provide the arguments doesn't matter, as long as we specify the parameter names.\n",
    "\n",
    "\"\"\"\n",
    "def subtract(a, b):\n",
    "    result = a - b\n",
    "    return result\n",
    "\n",
    "difference = subtract(b=5, a=3)  \n",
    "print(difference)  \n",
    "\n",
    "\n",
    "\n",
    "\n"
   ]
  },
  {
   "cell_type": "code",
   "execution_count": 35,
   "metadata": {},
   "outputs": [],
   "source": [
    "#Question_3:  What is the purpose of the return statement in a function? \n",
    "#             Can a function have multiple return statements? Explain with an example."
   ]
  },
  {
   "cell_type": "code",
   "execution_count": 36,
   "metadata": {},
   "outputs": [
    {
     "name": "stdout",
     "output_type": "stream",
     "text": [
      "5 is greater than 3\n",
      "7 is greater than 2\n",
      "Both numbers are equal\n"
     ]
    }
   ],
   "source": [
    "#Answer:\n",
    "\"\"\"\n",
    "1. Purpose of the return Statement:\n",
    "\n",
    "   The primary purpose of the return statement is to terminate the execution of a function \n",
    "   and send a value or values back to the caller.\n",
    "\n",
    "2. A function can have multiple 'return' statements:\n",
    "\n",
    "   A function can have multiple return statements, but only one of them will be executed.\n",
    "   When a return statement is encountered, the function immediately exits, \n",
    "   and the value associated with that return statement is returned to the caller. \n",
    "   Subsequent return statements are not executed.\n",
    "\"\"\"\n",
    "\n",
    "def find_greater(a, b):\n",
    "    if a > b:\n",
    "        return f\"{a} is greater than {b}\"\n",
    "    elif b > a:\n",
    "        return f\"{b} is greater than {a}\"\n",
    "    else:\n",
    "        return \"Both numbers are equal\"\n",
    "\n",
    "result1 = find_greater(5, 3)\n",
    "print(result1)  \n",
    "\n",
    "result2 = find_greater(2, 7)\n",
    "print(result2)  \n",
    "\n",
    "result3 = find_greater(4, 4)\n",
    "print(result3)  \n"
   ]
  },
  {
   "cell_type": "code",
   "execution_count": 37,
   "metadata": {},
   "outputs": [],
   "source": [
    "#Question_4: What are lambda functions in Python? How are they different from regular functions? Provide an\n",
    "#            example where a lambda function can be useful."
   ]
  },
  {
   "cell_type": "code",
   "execution_count": 38,
   "metadata": {},
   "outputs": [
    {
     "name": "stdout",
     "output_type": "stream",
     "text": [
      "[2, 4, 6, 8]\n"
     ]
    }
   ],
   "source": [
    " #Answer:\n",
    "\n",
    "\"\"\"\n",
    "Lambda functions are defined using the lambda keyword, followed by a list of arguments, a colon (:), \n",
    "and an expression that is evaluated and returned as the function's result.\n",
    "\n",
    "   \n",
    "   \n",
    "Lambda functions are anonymous, meaning they don't have a name. They are often used for short, one-time operations \n",
    "where defining a named function is overkill.\n",
    "\n",
    "While on the other hand, regular functions are defined using def keyword, they are named functions and resuable.\n",
    "\n",
    "\"\"\"\n",
    "\n",
    "#Lambda functions are frequently used with functions like \n",
    "#map(), filter(), and sorted() to create small, custom operations on iterable data structures.\n",
    "\n",
    "#example\n",
    "\n",
    "numbers = [1, 2, 3, 4, 5, 6, 7, 8, 9]\n",
    "\n",
    "even_numbers = list(filter(lambda x: x % 2 == 0, numbers))\n",
    "print(even_numbers)  \n",
    "\n"
   ]
  },
  {
   "cell_type": "code",
   "execution_count": 39,
   "metadata": {},
   "outputs": [],
   "source": [
    "#Question_5: How does the concept of \"scope\" apply to functions in Python? Explain the difference between local\n",
    "#            scope and global scope."
   ]
  },
  {
   "cell_type": "code",
   "execution_count": 40,
   "metadata": {},
   "outputs": [
    {
     "data": {
      "text/plain": [
       "\"\\n   Global scope refers to the outermost or the highest level of scope within our Python program.\\n   Variables defined outside of any function, class, or block have global scope and can be accessed from anywhere in the code.\\n   Global variables persist throughout the program's execution and can be modified from any part of the code.\\n   However, if we want to modify a global variable from within a function, we need to use the `global` keyword to indicate that \\n   we are working with the global variable rather than creating a new local variable with the same name.\\n\""
      ]
     },
     "execution_count": 40,
     "metadata": {},
     "output_type": "execute_result"
    }
   ],
   "source": [
    "#Answer:\n",
    "\n",
    "\"\"\"\n",
    "\n",
    "In Python, the concept of \"scope\" refers to the region of a program where a particular variable is visible \n",
    "and can be accessed. It defines the context in which a variable or function name can be used. \n",
    "\n",
    "Python has two main types of scope: local scope/variable and global scope/variable, \n",
    "and the scope of a variable determines where it can be accessed and modified within your code.\n",
    "\n",
    "\"\"\"\n",
    "\n",
    "# 1. Local Scope:\n",
    "\"\"\"\n",
    "   Local scope refers to the innermost or most specific level of scope within Python.\n",
    "   It is created when a function is defined and exists only within that function.\n",
    "   Variables defined within a function are considered local to that function and can only be accessed within that function.\n",
    "   Local variables are created when the function is called and destroyed when the function exits.\n",
    "   Local scope is isolated from the rest of the program, and variables with the same name \n",
    "   can exist in different functions without interfering with each other.\n",
    "   \"\"\"\n",
    "\n",
    "\n",
    "\n",
    "# 2. Global Scope:\n",
    "\"\"\"\n",
    "   Global scope refers to the outermost or the highest level of scope within our Python program.\n",
    "   Variables defined outside of any function, class, or block have global scope and can be accessed from anywhere in the code.\n",
    "   Global variables persist throughout the program's execution and can be modified from any part of the code.\n",
    "   However, if we want to modify a global variable from within a function, we need to use the `global` keyword to indicate that \n",
    "   we are working with the global variable rather than creating a new local variable with the same name.\n",
    "\"\"\"\n"
   ]
  },
  {
   "cell_type": "code",
   "execution_count": null,
   "metadata": {},
   "outputs": [],
   "source": [
    "#Question_6:  How can you use the \"return\" statement in a Python function to return multiple values?"
   ]
  },
  {
   "cell_type": "code",
   "execution_count": 41,
   "metadata": {},
   "outputs": [
    {
     "name": "stdout",
     "output_type": "stream",
     "text": [
      "{'first_value': 10, 'second_value': 20, 'third_value': 30}\n"
     ]
    }
   ],
   "source": [
    "#Answer:\n",
    "\"\"\"\n",
    "We can use the return statement in a function to return multiple values by grouping those values \n",
    "into a data structure such as a tuple, list, or dictionary. \n",
    "\"\"\"\n",
    "# using dictionary\n",
    "\n",
    "def multiple_values():\n",
    "    a = 10\n",
    "    b = 20\n",
    "    c = 30\n",
    "    return {'first_value': a, 'second_value': b, 'third_value': c}\n",
    "\n",
    "result = multiple_values()\n",
    "print(result)\n"
   ]
  },
  {
   "cell_type": "code",
   "execution_count": null,
   "metadata": {},
   "outputs": [],
   "source": [
    "#Question_7: What is the difference between the \"pass by value\" and \"pass by reference\" concepts when it\n",
    "#            comes to function arguments in Python?"
   ]
  },
  {
   "cell_type": "code",
   "execution_count": 43,
   "metadata": {},
   "outputs": [
    {
     "name": "stdout",
     "output_type": "stream",
     "text": [
      "[1, 2, 3, 4]\n",
      "10\n"
     ]
    }
   ],
   "source": [
    "#Answer:\n",
    "\n",
    "\"\"\"\n",
    "\n",
    "1. Pass by Value:\n",
    "    In pass by value, a copy of the actual value of an argument is passed to the function.\n",
    "    Any changes made to the parameter inside the function do not affect the original value outside the function.\n",
    "\n",
    "2. Pass by Reference:\n",
    "    In pass by reference, a reference or memory address of the original value is passed to the function.\n",
    "    Any changes made to the parameter inside the function affect the original value outside the function.\n",
    "\n",
    "#For Python:\n",
    "\n",
    " Arguments in Python are neither passed by value nor passed by reference. Instead, they are passed by object reference.\n",
    "\n",
    " When we pass a variable to a Python function, we are passing a reference to the object that the variable points to, not the value itself.\n",
    "\n",
    " This means that if we modify the object (e.g., a mutable object like a list) inside the function, \n",
    " those changes will be reflected outside the function, as we are working with the same object.\n",
    "\n",
    " If we reassign the parameter to a new value (e.g., assigning a new value to an immutable object like an integer or string), \n",
    " it won't affect the original value outside the function. This can give the illusion of pass by value in some cases.\n",
    "\"\"\"\n",
    "#Here's an example\n",
    "\n",
    "def modify_list(lst):\n",
    "    lst.append(4)  \n",
    "\n",
    "def modify_variable(x):\n",
    "    x = 42  \n",
    "\n",
    "my_list = [1, 2, 3]\n",
    "modify_list(my_list)\n",
    "print(my_list)  \n",
    "\n",
    "my_variable = 10\n",
    "modify_variable(my_variable)\n",
    "print(my_variable) \n",
    "\n"
   ]
  },
  {
   "cell_type": "code",
   "execution_count": null,
   "metadata": {},
   "outputs": [],
   "source": [
    "#Question_8:  Create a function that can intake integer or decimal value and do following operations:\n",
    "#             a. Logarithmic function (log x)\n",
    "#             b. Exponential function (exp(x))\n",
    "#             c. Power function with base 2 (2**x)\n",
    "#             d. Square root"
   ]
  },
  {
   "cell_type": "code",
   "execution_count": 55,
   "metadata": {},
   "outputs": [
    {
     "name": "stdout",
     "output_type": "stream",
     "text": [
      "Logarithmic (log x): 1.3862943611198906\n",
      "Exponential (exp(x)): 54.598150033144236\n",
      "Power function with base 2 (2**x): 16\n",
      "Square root: 2.0\n"
     ]
    }
   ],
   "source": [
    "import math\n",
    "\n",
    "def math_operations(x):\n",
    "    if isinstance(x, (int, float)):\n",
    "        results = {\n",
    "            \"Logarithmic (log x)\": math.log(x),\n",
    "            \"Exponential (exp(x))\": math.exp(x),\n",
    "            \"Power function with base 2 (2**x)\": 2 ** x,\n",
    "            \"Square root\": math.sqrt(x)\n",
    "            }\n",
    "        return results\n",
    "    else:\n",
    "        return \"Invalid input. Please provide an integer or a decimal.\"\n",
    "    \n",
    "number = 4\n",
    "results = math_operations(number)\n",
    "for operation, result in results.items():\n",
    "    print(f\"{operation}: {result}\")\n"
   ]
  },
  {
   "cell_type": "code",
   "execution_count": null,
   "metadata": {},
   "outputs": [],
   "source": [
    "#Question_9:  Create a function that takes a full name as an argument and returns first name and last name."
   ]
  },
  {
   "cell_type": "code",
   "execution_count": 61,
   "metadata": {},
   "outputs": [
    {
     "name": "stdout",
     "output_type": "stream",
     "text": [
      "First Name: John\n",
      "Last Name: Doe\n"
     ]
    }
   ],
   "source": [
    "def full_name_splitter(full_name):\n",
    "    name_parts = full_name.split()       #stored in form of list data type\n",
    "    \n",
    "    # Let's first check if we have at least two parts\n",
    "    if len(name_parts) >= 2:\n",
    "        first_name = name_parts[0]\n",
    "        last_name = name_parts[-1]\n",
    "        return first_name, last_name\n",
    "    else:\n",
    "        return None, None\n",
    "   \n",
    "full_name = \"John Doe\"\n",
    "first, last = full_name_splitter(full_name)\n",
    "print(\"First Name:\", first)\n",
    "print(\"Last Name:\", last)\n"
   ]
  }
 ],
 "metadata": {
  "kernelspec": {
   "display_name": "base",
   "language": "python",
   "name": "python3"
  },
  "language_info": {
   "codemirror_mode": {
    "name": "ipython",
    "version": 3
   },
   "file_extension": ".py",
   "mimetype": "text/x-python",
   "name": "python",
   "nbconvert_exporter": "python",
   "pygments_lexer": "ipython3",
   "version": "3.11.4"
  }
 },
 "nbformat": 4,
 "nbformat_minor": 2
}
